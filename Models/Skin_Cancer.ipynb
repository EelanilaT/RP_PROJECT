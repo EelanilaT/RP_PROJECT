{
 "cells": [
  {
   "cell_type": "code",
   "execution_count": 24,
   "id": "b6ff3d86-58bc-4b0a-b7b3-92a6b6a3fb39",
   "metadata": {},
   "outputs": [],
   "source": [
    "import tensorflow as tf\n",
    "from tensorflow import keras\n",
    "from tensorflow.keras.preprocessing.image import ImageDataGenerator\n",
    "from tensorflow.keras.applications import InceptionV3\n",
    "from tensorflow.keras.models import Model\n",
    "from tensorflow.keras.layers import Dense, GlobalAveragePooling2D\n",
    "from sklearn.model_selection import train_test_split\n",
    "import pandas as pd\n",
    "import os\n"
   ]
  },
  {
   "cell_type": "code",
   "execution_count": 6,
   "id": "f15bc6b9-dd34-48e4-af01-70afbc3d5fbc",
   "metadata": {},
   "outputs": [],
   "source": [
    "data_dir = \"Dataset\""
   ]
  },
  {
   "cell_type": "code",
   "execution_count": 25,
   "id": "36d75839-fab7-4251-a1b2-3c3da0f14b95",
   "metadata": {},
   "outputs": [],
   "source": [
    "\n",
    "# Create a list to hold the image file paths and labels\n",
    "image_paths = []\n",
    "labels = []\n",
    "\n",
    "# Map class labels to integers\n",
    "class_mapping = {\"Basal_Cell_Carcinoma\": 1, \"Melanoma\": 2, \"Normal_skin\": 3}\n",
    "\n",
    "# Iterate through the subfolders and collect image paths and labels\n",
    "for class_name, class_label in class_mapping.items():\n",
    "    class_dir = os.path.join(data_dir, class_name)\n",
    "    for filename in os.listdir(class_dir):\n",
    "        if filename.endswith(\".jpg\"):  \n",
    "            image_paths.append(os.path.join(class_dir, filename))\n",
    "            labels.append(class_label)\n",
    "\n",
    "# Create a DataFrame to hold the image paths and labels\n",
    "data = pd.DataFrame({\"image_path\": image_paths, \"label\": labels})\n",
    "\n",
    "# Split the data into train, test, and validation sets\n",
    "train_data, test_data = train_test_split(data, test_size=0.2, random_state=42)\n",
    "train_data, valid_data = train_test_split(train_data, test_size=0.2, random_state=42)\n"
   ]
  },
  {
   "cell_type": "code",
   "execution_count": 26,
   "id": "3325e83e-0ce2-4b53-85ef-f66291229b40",
   "metadata": {},
   "outputs": [],
   "source": [
    "# Define data augmentation for training data\n",
    "train_datagen = ImageDataGenerator(\n",
    "    rescale=1.0 / 255,\n",
    "    rotation_range=20,\n",
    "    width_shift_range=0.2,\n",
    "    height_shift_range=0.2,\n",
    "    horizontal_flip=True,\n",
    "    shear_range=0.2,\n",
    "    zoom_range=0.2,\n",
    "    fill_mode=\"nearest\"\n",
    ")\n",
    "\n",
    "# For validation and test data, only rescale the images\n",
    "valid_datagen = ImageDataGenerator(rescale=1.0 / 255)\n"
   ]
  },
  {
   "cell_type": "code",
   "execution_count": 28,
   "id": "1fb2227b-6041-41bc-95de-4ce447554c1b",
   "metadata": {},
   "outputs": [
    {
     "name": "stdout",
     "output_type": "stream",
     "text": [
      "Found 4214 validated image filenames belonging to 3 classes.\n",
      "Found 1054 validated image filenames belonging to 3 classes.\n",
      "Found 1317 validated image filenames belonging to 3 classes.\n"
     ]
    }
   ],
   "source": [
    "# Convert the labels to string format in your DataFrame\n",
    "train_data[\"label\"] = train_data[\"label\"].astype(str)\n",
    "valid_data[\"label\"] = valid_data[\"label\"].astype(str)\n",
    "test_data[\"label\"] = test_data[\"label\"].astype(str)\n",
    "\n",
    "# Update the data generators with class_mode set to \"categorical\"\n",
    "train_generator = train_datagen.flow_from_dataframe(\n",
    "    train_data,\n",
    "    x_col=\"image_path\",\n",
    "    y_col=\"label\",\n",
    "    target_size=(299, 299),\n",
    "    batch_size=batch_size,\n",
    "    class_mode=\"categorical\"\n",
    ")\n",
    "\n",
    "valid_generator = valid_datagen.flow_from_dataframe(\n",
    "    valid_data,\n",
    "    x_col=\"image_path\",\n",
    "    y_col=\"label\",\n",
    "    target_size=(299, 299),\n",
    "    batch_size=batch_size,\n",
    "    class_mode=\"categorical\"\n",
    ")\n",
    "\n",
    "test_generator = valid_datagen.flow_from_dataframe(\n",
    "    test_data,\n",
    "    x_col=\"image_path\",\n",
    "    y_col=\"label\",\n",
    "    target_size=(299, 299),\n",
    "    batch_size=batch_size,\n",
    "    class_mode=\"categorical\"\n",
    ")\n"
   ]
  },
  {
   "cell_type": "code",
   "execution_count": 29,
   "id": "fa8e4605-2a88-4433-a4a8-54a2723f0d90",
   "metadata": {},
   "outputs": [],
   "source": [
    "# Load the InceptionV3 model with pre-trained weights and exclude the top layer\n",
    "base_model = InceptionV3(weights='imagenet', include_top=False)\n",
    "\n",
    "# Add custom classification layers\n",
    "x = base_model.output\n",
    "x = GlobalAveragePooling2D()(x)\n",
    "x = Dense(1024, activation='relu')(x)\n",
    "predictions = Dense(3, activation='softmax')(x)  # 3 classes\n",
    "\n",
    "# Create the final model\n",
    "model = Model(inputs=base_model.input, outputs=predictions)\n",
    "\n",
    "# Freeze the pre-trained layers to avoid updating their weights during training\n",
    "for layer in base_model.layers:\n",
    "    layer.trainable = False\n"
   ]
  },
  {
   "cell_type": "code",
   "execution_count": 30,
   "id": "48362e38-e93c-4e23-9a1f-a2c690bc134c",
   "metadata": {},
   "outputs": [],
   "source": [
    "model.compile(optimizer='adam',\n",
    "              loss='categorical_crossentropy',\n",
    "              metrics=['accuracy'])\n"
   ]
  },
  {
   "cell_type": "code",
   "execution_count": null,
   "id": "ef311787-fb63-4838-a0f6-fd634b2fd006",
   "metadata": {},
   "outputs": [],
   "source": [
    "epochs = 10  # You can increase this number for better results\n",
    "\n",
    "history = model.fit(train_generator,\n",
    "                    steps_per_epoch=len(train_data) // batch_size,\n",
    "                    epochs=epochs,\n",
    "                    validation_data=valid_generator,\n",
    "                    validation_steps=len(valid_data) // batch_size)\n"
   ]
  },
  {
   "cell_type": "code",
   "execution_count": 33,
   "id": "8d77c882-02f4-457b-b71a-0e123edc223f",
   "metadata": {},
   "outputs": [
    {
     "name": "stdout",
     "output_type": "stream",
     "text": [
      "41/41 [==============================] - 106s 3s/step - loss: 0.0887 - accuracy: 0.9665\n",
      "Test accuracy: 96.65%\n"
     ]
    }
   ],
   "source": [
    "test_loss, test_accuracy = model.evaluate(test_generator, steps=len(test_data) // batch_size)\n",
    "print(f\"Test accuracy: {test_accuracy * 100:.2f}%\")\n"
   ]
  },
  {
   "cell_type": "code",
   "execution_count": 35,
   "id": "ecdd005e-1777-4832-9730-fb2fb892ced9",
   "metadata": {},
   "outputs": [
    {
     "name": "stdout",
     "output_type": "stream",
     "text": [
      "INFO:tensorflow:Assets written to: skin_cancer_inception_keras/assets\n"
     ]
    },
    {
     "name": "stderr",
     "output_type": "stream",
     "text": [
      "INFO:tensorflow:Assets written to: skin_cancer_inception_keras/assets\n"
     ]
    }
   ],
   "source": [
    "# Save the model in the native Keras format\n",
    "model.save(\"skin_cancer_inception_keras\")\n",
    "\n",
    "\n",
    "# Load the model in the native Keras format\n",
    "loaded_model = keras.models.load_model(\"skin_cancer_inception_keras\")\n",
    "\n"
   ]
  },
  {
   "cell_type": "code",
   "execution_count": null,
   "id": "002e1143-fd3c-4134-a0f0-46ffc7ce8faa",
   "metadata": {},
   "outputs": [],
   "source": []
  }
 ],
 "metadata": {
  "kernelspec": {
   "display_name": "Python 3 (ipykernel)",
   "language": "python",
   "name": "python3"
  },
  "language_info": {
   "codemirror_mode": {
    "name": "ipython",
    "version": 3
   },
   "file_extension": ".py",
   "mimetype": "text/x-python",
   "name": "python",
   "nbconvert_exporter": "python",
   "pygments_lexer": "ipython3",
   "version": "3.11.5"
  }
 },
 "nbformat": 4,
 "nbformat_minor": 5
}
