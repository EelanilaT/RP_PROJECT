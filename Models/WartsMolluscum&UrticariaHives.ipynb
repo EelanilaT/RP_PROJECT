{
 "cells": [
  {
   "cell_type": "code",
   "execution_count": 68,
   "id": "0e39594a-599b-4d2e-8a0c-6feb3d6d9029",
   "metadata": {},
   "outputs": [],
   "source": [
    "import os\n",
    "import pandas as pd\n",
    "import numpy as np\n",
    "import tensorflow as tf\n",
    "from tensorflow import keras\n",
    "from tensorflow.keras.preprocessing.image import ImageDataGenerator\n",
    "from sklearn.model_selection import train_test_split\n",
    "from efficientnet.tfkeras import EfficientNetB0"
   ]
  },
  {
   "cell_type": "code",
   "execution_count": 69,
   "id": "e11cb44a-ea7d-4996-9077-ce16022a18e4",
   "metadata": {},
   "outputs": [],
   "source": [
    "data_dir = 'dataset'\n",
    "output_dir = 'TestRest'"
   ]
  },
  {
   "cell_type": "markdown",
   "id": "d024d5c2-3216-4b1f-b1d3-203a02d96cb9",
   "metadata": {},
   "source": [
    "Map class names to labels\n"
   ]
  },
  {
   "cell_type": "code",
   "execution_count": 70,
   "id": "65704ba5-c622-4be6-a07b-922b2735f71d",
   "metadata": {},
   "outputs": [],
   "source": [
    "class_labels = {\n",
    "    'WartsMolluscum': 1,\n",
    "    'UrticariaHives': 2,\n",
    "    'NormalSkin': 3\n",
    "}"
   ]
  },
  {
   "cell_type": "markdown",
   "id": "24f3ed42-87bd-4fdf-ad33-d78c7667efd9",
   "metadata": {},
   "source": [
    "Create lists to store image paths and corresponding labels"
   ]
  },
  {
   "cell_type": "code",
   "execution_count": 71,
   "id": "6da10fe4-b200-472a-b4e7-de5c12019b65",
   "metadata": {},
   "outputs": [],
   "source": [
    "file_paths = []\n",
    "labels = []"
   ]
  },
  {
   "cell_type": "markdown",
   "id": "e0c792a0-6b16-4147-8259-60fa674e981f",
   "metadata": {},
   "source": [
    "Iterate through the subfolders and collect image paths and labels"
   ]
  },
  {
   "cell_type": "code",
   "execution_count": 73,
   "id": "c6cdc695-4bfc-4a21-8dfc-7577fb60107e",
   "metadata": {},
   "outputs": [],
   "source": [
    "for class_name, label in class_labels.items():\n",
    "    class_dir = os.path.join(data_dir, class_name)\n",
    "    for image_name in os.listdir(class_dir):\n",
    "        file_paths.append(os.path.join(class_dir, image_name))\n",
    "        labels.append(label)"
   ]
  },
  {
   "cell_type": "markdown",
   "id": "834f51ed-05d1-4902-8acd-8ce22680525d",
   "metadata": {},
   "source": [
    "Split the data"
   ]
  },
  {
   "cell_type": "code",
   "execution_count": 74,
   "id": "c1008fd2-bbde-4f1b-a01a-b03e51bdcf88",
   "metadata": {},
   "outputs": [],
   "source": [
    "train_paths, test_paths, train_labels, test_labels = train_test_split(file_paths, labels, test_size=0.2, random_state=42)\n",
    "train_paths, valid_paths, train_labels, valid_labels = train_test_split(train_paths, train_labels, test_size=0.2, random_state=42)"
   ]
  },
  {
   "cell_type": "markdown",
   "id": "5558a219-1930-4cc0-8284-2a1a275cba66",
   "metadata": {},
   "source": [
    "Create DataFrames and save them as CSV"
   ]
  },
  {
   "cell_type": "code",
   "execution_count": 75,
   "id": "dcb9ea7c-5e3f-4793-b63d-3ff2ed83553c",
   "metadata": {},
   "outputs": [],
   "source": [
    "train_df = pd.DataFrame({'Image_Path': train_paths, 'Label': train_labels})\n",
    "test_df = pd.DataFrame({'Image_Path': test_paths, 'Label': test_labels})\n",
    "valid_df = pd.DataFrame({'Image_Path': valid_paths, 'Label': valid_labels})"
   ]
  },
  {
   "cell_type": "markdown",
   "id": "e120d879-e6c9-400d-82b5-115fa78ad3f6",
   "metadata": {},
   "source": [
    "Define the paths for output CSV files and the output directory"
   ]
  },
  {
   "cell_type": "code",
   "execution_count": 76,
   "id": "3bf150ab-00d5-488e-a13e-80482c078490",
   "metadata": {},
   "outputs": [],
   "source": [
    "output_dir = 'E:\\\\SLIIT\\\\Y4S1\\\\TestRest'\n",
    "train_csv_path = os.path.join(output_dir, 'train.csv')\n",
    "test_csv_path = os.path.join(output_dir, 'test.csv')\n",
    "valid_csv_path = os.path.join(output_dir, 'valid.csv')\n",
    "\n",
    "# Creating the output directory if it doesn't exist\n",
    "os.makedirs(output_dir, exist_ok=True)\n",
    "\n",
    "# save the CSV files\n",
    "train_df.to_csv(train_csv_path, index=False)\n",
    "test_df.to_csv(test_csv_path, index=False)\n",
    "valid_df.to_csv(valid_csv_path, index=False)\n"
   ]
  },
  {
   "cell_type": "markdown",
   "id": "a1ca2e16-a7ab-488f-a39c-6e3f52453fd8",
   "metadata": {},
   "source": [
    "Define image data generators with augmentation for training and validation"
   ]
  },
  {
   "cell_type": "code",
   "execution_count": 77,
   "id": "16a1dfd5-f376-4eb3-b813-eb1ed6e5262b",
   "metadata": {},
   "outputs": [],
   "source": [
    "datagen = ImageDataGenerator(\n",
    "    rescale=1./255,\n",
    "    rotation_range=20,\n",
    "    width_shift_range=0.2,\n",
    "    height_shift_range=0.2,\n",
    "    shear_range=0.2,\n",
    "    zoom_range=0.2,\n",
    "    horizontal_flip=True,\n",
    "    fill_mode='nearest'\n",
    ")"
   ]
  },
  {
   "cell_type": "markdown",
   "id": "09f724d5-c7a7-426a-ba42-f698adfc47ff",
   "metadata": {},
   "source": [
    " convert the values in the 'Label' column into strings"
   ]
  },
  {
   "cell_type": "code",
   "execution_count": null,
   "id": "e3fad2cd-5c61-40ed-9690-8051e8548083",
   "metadata": {},
   "outputs": [],
   "source": [
    "train_df['Label'] = train_df['Label'].astype(str)"
   ]
  },
  {
   "cell_type": "code",
   "execution_count": 80,
   "id": "5168ae73-9c01-4112-8346-25f4ee920dcb",
   "metadata": {},
   "outputs": [
    {
     "name": "stdout",
     "output_type": "stream",
     "text": [
      "Found 1368 validated image filenames belonging to 3 classes.\n"
     ]
    }
   ],
   "source": [
    "batch_size = 32\n",
    "train_generator = datagen.flow_from_dataframe(\n",
    "    train_df,\n",
    "    x_col='Image_Path',\n",
    "    y_col='Label',\n",
    "    target_size=(224, 224),  # Adjust this size according to your model's input size\n",
    "    batch_size=batch_size,\n",
    "    class_mode='categorical'\n",
    ")"
   ]
  },
  {
   "cell_type": "code",
   "execution_count": 81,
   "id": "26d52b08-6c57-4d58-b993-1ec7d6924b82",
   "metadata": {},
   "outputs": [],
   "source": [
    "test_df['Label'] = test_df['Label'].astype(str)"
   ]
  },
  {
   "cell_type": "code",
   "execution_count": 82,
   "id": "01cc8959-c285-4c0a-b2d0-bdbe9cd79c80",
   "metadata": {},
   "outputs": [
    {
     "name": "stdout",
     "output_type": "stream",
     "text": [
      "Found 428 validated image filenames belonging to 3 classes.\n"
     ]
    }
   ],
   "source": [
    "test_generator = datagen.flow_from_dataframe(\n",
    "    test_df,\n",
    "    x_col='Image_Path',\n",
    "    y_col='Label',\n",
    "    target_size=(224, 224),\n",
    "    batch_size=batch_size,\n",
    "    class_mode='categorical'\n",
    ")"
   ]
  },
  {
   "cell_type": "code",
   "execution_count": 84,
   "id": "143d297c-4228-4e10-8e4c-684cd1145330",
   "metadata": {},
   "outputs": [],
   "source": [
    "valid_df['Label'] = valid_df['Label'].astype(str)"
   ]
  },
  {
   "cell_type": "code",
   "execution_count": 85,
   "id": "fbaf7275-3409-4fc1-bd03-cd4025de1c0a",
   "metadata": {},
   "outputs": [
    {
     "name": "stdout",
     "output_type": "stream",
     "text": [
      "Found 342 validated image filenames belonging to 3 classes.\n"
     ]
    }
   ],
   "source": [
    "valid_generator = datagen.flow_from_dataframe(\n",
    "    valid_df,\n",
    "    x_col='Image_Path',\n",
    "    y_col='Label',\n",
    "    target_size=(224, 224),\n",
    "    batch_size=batch_size,\n",
    "    class_mode='categorical'\n",
    ")"
   ]
  },
  {
   "cell_type": "markdown",
   "id": "97bf953d-1739-4ae4-aec4-18c75ad155b4",
   "metadata": {},
   "source": [
    "creating a base model using EfficientNetB0 architecture"
   ]
  },
  {
   "cell_type": "code",
   "execution_count": 91,
   "id": "1f945f89-ac7c-4b6f-900b-ebd971a1734a",
   "metadata": {},
   "outputs": [],
   "source": [
    "base_model = EfficientNetB0(weights='imagenet', include_top=False, input_shape=(224, 224, 3))"
   ]
  },
  {
   "cell_type": "markdown",
   "id": "62102e51-adda-4881-b176-ba7e05eff171",
   "metadata": {},
   "source": [
    " building additional layers"
   ]
  },
  {
   "cell_type": "code",
   "execution_count": 92,
   "id": "504cf5be-c6d4-44eb-949c-d0fe99249de0",
   "metadata": {},
   "outputs": [],
   "source": [
    "x = base_model.output\n",
    "x = keras.layers.GlobalAveragePooling2D()(x)\n",
    "x = keras.layers.Dense(128, activation='relu')(x)\n",
    "predictions = keras.layers.Dense(3, activation='softmax')(x)"
   ]
  },
  {
   "cell_type": "code",
   "execution_count": 93,
   "id": "44522d4d-72f5-462f-8218-7a50224bc3d4",
   "metadata": {},
   "outputs": [],
   "source": [
    "model = keras.models.Model(inputs=base_model.input, outputs=predictions)"
   ]
  },
  {
   "cell_type": "code",
   "execution_count": 94,
   "id": "31fafe4d-312b-4d5d-ab21-5b94863c800b",
   "metadata": {},
   "outputs": [],
   "source": [
    "model.compile(optimizer='adam', loss='categorical_crossentropy', metrics=['accuracy'])\n"
   ]
  },
  {
   "cell_type": "markdown",
   "id": "07a416f3-ffaf-4aca-a5b3-0edddc9be037",
   "metadata": {},
   "source": [
    "Train the model using the training and validation data generators."
   ]
  },
  {
   "cell_type": "code",
   "execution_count": 95,
   "id": "9c904dbe-72a2-4b53-8229-a5fd2b6eacf5",
   "metadata": {},
   "outputs": [
    {
     "name": "stdout",
     "output_type": "stream",
     "text": [
      "Epoch 1/10\n",
      "43/43 [==============================] - 226s 5s/step - loss: 0.2826 - accuracy: 0.8801 - val_loss: 2.2001 - val_accuracy: 0.6667\n",
      "Epoch 2/10\n",
      "43/43 [==============================] - 196s 5s/step - loss: 0.1259 - accuracy: 0.9554 - val_loss: 0.4189 - val_accuracy: 0.8655\n",
      "Epoch 3/10\n",
      "43/43 [==============================] - 193s 4s/step - loss: 0.0442 - accuracy: 0.9876 - val_loss: 0.8205 - val_accuracy: 0.7749\n",
      "Epoch 4/10\n",
      "43/43 [==============================] - 173s 4s/step - loss: 0.0443 - accuracy: 0.9846 - val_loss: 0.3582 - val_accuracy: 0.8743\n",
      "Epoch 5/10\n",
      "43/43 [==============================] - 175s 4s/step - loss: 0.0839 - accuracy: 0.9751 - val_loss: 0.1689 - val_accuracy: 0.9415\n",
      "Epoch 6/10\n",
      "43/43 [==============================] - 175s 4s/step - loss: 0.0608 - accuracy: 0.9795 - val_loss: 0.6106 - val_accuracy: 0.8538\n",
      "Epoch 7/10\n",
      "43/43 [==============================] - 173s 4s/step - loss: 0.0642 - accuracy: 0.9795 - val_loss: 0.5383 - val_accuracy: 0.8626\n",
      "Epoch 8/10\n",
      "43/43 [==============================] - 171s 4s/step - loss: 0.0274 - accuracy: 0.9883 - val_loss: 0.1027 - val_accuracy: 0.9766\n",
      "Epoch 9/10\n",
      "43/43 [==============================] - 170s 4s/step - loss: 0.0827 - accuracy: 0.9759 - val_loss: 0.9498 - val_accuracy: 0.8333\n",
      "Epoch 10/10\n",
      "43/43 [==============================] - 175s 4s/step - loss: 0.0533 - accuracy: 0.9817 - val_loss: 0.2002 - val_accuracy: 0.9649\n"
     ]
    },
    {
     "data": {
      "text/plain": [
       "<keras.src.callbacks.History at 0x1dbc928e350>"
      ]
     },
     "execution_count": 95,
     "metadata": {},
     "output_type": "execute_result"
    }
   ],
   "source": [
    "epochs = 10\n",
    "model.fit(train_generator, validation_data=valid_generator, epochs=epochs)"
   ]
  },
  {
   "cell_type": "markdown",
   "id": "20568641-a03c-43b6-8168-c8d6431959f0",
   "metadata": {},
   "source": [
    "Evaluate the model"
   ]
  },
  {
   "cell_type": "code",
   "execution_count": 96,
   "id": "08d40723-3e67-4c6f-b459-d1aaff1631b6",
   "metadata": {},
   "outputs": [
    {
     "name": "stdout",
     "output_type": "stream",
     "text": [
      "14/14 [==============================] - 17s 1s/step - loss: 0.1711 - accuracy: 0.9509\n",
      "Test Accuracy: 95.09%\n"
     ]
    }
   ],
   "source": [
    "test_loss, test_accuracy = model.evaluate(test_generator)\n",
    "print(f\"Test Accuracy: {test_accuracy*100:.2f}%\")\n"
   ]
  },
  {
   "cell_type": "code",
   "execution_count": null,
   "id": "2f95a700-74fb-49e4-8bc9-3c243d995045",
   "metadata": {},
   "outputs": [],
   "source": []
  }
 ],
 "metadata": {
  "kernelspec": {
   "display_name": "Python 3 (ipykernel)",
   "language": "python",
   "name": "python3"
  },
  "language_info": {
   "codemirror_mode": {
    "name": "ipython",
    "version": 3
   },
   "file_extension": ".py",
   "mimetype": "text/x-python",
   "name": "python",
   "nbconvert_exporter": "python",
   "pygments_lexer": "ipython3",
   "version": "3.11.6"
  }
 },
 "nbformat": 4,
 "nbformat_minor": 5
}
